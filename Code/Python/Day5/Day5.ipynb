{
 "cells": [
  {
   "cell_type": "markdown",
   "metadata": {},
   "source": [
    "\n",
    "#### 16\n",
    "# Day 5\n",
    "\n",
    "*Original URL* https://adventofcode.com/2019/day/5 and [**My Alteryx Approach**](https://github.com/dsmdavid/AdventCode2019/tree/master/Code/Alteryx/Day5)\n",
    "\n",
    "## (Not so) Brief\n",
    "--- Day 5: Sunny with a Chance of Asteroids ---\n",
    "You're starting to sweat as the ship makes its way toward Mercury. The Elves suggest that you get the air conditioner working by upgrading your ship computer to support the Thermal Environment Supervision Terminal.  \n",
    "\n",
    "The Thermal Environment Supervision Terminal (TEST) starts by running a diagnostic program (your puzzle input). The TEST diagnostic program will run on your existing Intcode computer after a few modifications:\n",
    "\n",
    "First, you'll need to add two new instructions:  \n",
    "\n",
    "Opcode 3 takes a single integer as input and saves it to the position given by its only parameter. For example, the instruction 3,50 would take an input value and store it at address 50.  \n",
    "Opcode 4 outputs the value of its only parameter. For example, the instruction 4,50 would output the value at address 50.  \n",
    "Programs that use these instructions will come with documentation that explains what should be connected to the input and output. The program 3,0,4,0,99 outputs whatever it gets as input, then halts.  \n",
    "\n",
    "Second, you'll need to add support for parameter modes:  \n",
    "\n",
    "Each parameter of an instruction is handled based on its parameter mode. Right now, your ship computer already understands parameter mode 0, position mode, which causes the parameter to be interpreted as a position - if the parameter is 50, its value is the value stored at address 50 in memory. Until now, all parameters have been in position mode.  \n",
    "\n",
    "Now, your ship computer will also need to handle parameters in mode 1, immediate mode. In immediate mode, a parameter is interpreted as a value - if the parameter is 50, its value is simply 50.  \n",
    "\n",
    "Parameter modes are stored in the same value as the instruction's opcode. The opcode is a two-digit number based only on the ones and tens digit of the value, that is, the opcode is the rightmost two digits of the first value in an instruction. Parameter modes are single digits, one per parameter, read right-to-left from the opcode: the first parameter's mode is in the hundreds digit, the second parameter's mode is in the thousands digit, the third parameter's mode is in the ten-thousands digit, and so on. Any missing modes are 0.  \n",
    "\n",
    "For example, consider the program 1002,4,3,4,33.  \n",
    "\n",
    "The first instruction, 1002,4,3,4, is a multiply instruction - the rightmost two digits of the first value, 02, indicate opcode 2, multiplication. Then, going right to left, the parameter modes are 0 (hundreds digit), 1 (thousands digit), and 0 (ten-thousands digit, not present and therefore zero):  \n",
    "\n",
    "`ABCDE  \n",
    " 1002  \n",
    "\n",
    "DE - two-digit opcode,      02 == opcode 2\n",
    " C - mode of 1st parameter,  0 == position mode\n",
    " B - mode of 2nd parameter,  1 == immediate mode\n",
    " A - mode of 3rd parameter,  0 == position mode,\n",
    "                                  omitted due to being a leading zero  `\n",
    "                                  \n",
    "This instruction multiplies its first two parameters. The first parameter, 4 in position mode, works like it did before - its value is the value stored at address 4 (33). The second parameter, 3 in immediate mode, simply has value 3. The result of this operation, 33 * 3 = 99, is written according to the third parameter, 4 in position mode, which also works like it did before - 99 is written to address 4.  \n",
    "\n",
    "Parameters that an instruction writes to will never be in immediate mode.  \n",
    "\n",
    "Finally, some notes:  \n",
    "\n",
    "It is important to remember that the instruction pointer should increase by the number of values in the instruction after the instruction finishes. Because of the new instructions, this amount is no longer always 4.  \n",
    "Integers can be negative: 1101,100,-1,4,0 is a valid program (find 100 + -1, store the result in position 4).  \n",
    "The TEST diagnostic program will start by requesting from the user the ID of the system to test by running an input instruction - provide it 1, the ID for the ship's air conditioner unit.  \n",
    "\n",
    "It will then perform a series of diagnostic tests confirming that various parts of the Intcode computer, like parameter modes, function correctly. For each test, it will run an output instruction indicating how far the result of the test was from the expected value, where 0 means the test was successful. Non-zero outputs mean that a function is not working correctly; check the instructions that were run before the output instruction to see which one failed.  \n",
    "\n",
    "Finally, the program will output a diagnostic code and immediately halt. This final output isn't an error; an output followed immediately by a halt means the program finished. If all outputs were zero except the diagnostic code, the diagnostic program ran successfully.  \n",
    "\n",
    "After providing 1 to the only input instruction and passing all the tests, what diagnostic code does the program produce?\n"
   ]
  },
  {
   "cell_type": "code",
   "execution_count": 5,
   "metadata": {},
   "outputs": [],
   "source": [
    "import numpy as np\n",
    "from collections import defaultdict"
   ]
  },
  {
   "cell_type": "markdown",
   "metadata": {},
   "source": [
    "#### Read files"
   ]
  },
  {
   "cell_type": "code",
   "execution_count": 2,
   "metadata": {},
   "outputs": [],
   "source": [
    "# Test Sequence\n",
    "# sequence = [int(x) for x in \"1,9,10,3,2,3,11,0,99,30,40,50\".split(\",\")]\n"
   ]
  },
  {
   "cell_type": "code",
   "execution_count": 4,
   "metadata": {},
   "outputs": [
    {
     "data": {
      "text/plain": [
       "array([   3,  225,    1,  225,    6,    6, 1100,    1,  238,  225])"
      ]
     },
     "execution_count": 4,
     "metadata": {},
     "output_type": "execute_result"
    }
   ],
   "source": [
    "sequence = np.loadtxt(\"../../../Inputs/Day5/Input01.txt\",delimiter=\",\", dtype=np.int )\n",
    "#Copy to restore\n",
    "seq_copy = sequence.copy()\n",
    "sequence[0:10]\n",
    "\n"
   ]
  },
  {
   "cell_type": "markdown",
   "metadata": {},
   "source": [
    "#### Main functions"
   ]
  },
  {
   "cell_type": "markdown",
   "metadata": {},
   "source": [
    "\n",
    "1 -> sum  \n",
    "2 -> mult  \n",
    "3 -> write input  \n",
    "4 -> output value  "
   ]
  },
  {
   "cell_type": "code",
   "execution_count": 13,
   "metadata": {},
   "outputs": [],
   "source": [
    "test = 'abcde'"
   ]
  },
  {
   "cell_type": "code",
   "execution_count": 15,
   "metadata": {},
   "outputs": [
    {
     "data": {
      "text/plain": [
       "'ed'"
      ]
     },
     "execution_count": 15,
     "metadata": {},
     "output_type": "execute_result"
    }
   ],
   "source": [
    "test[::-1][0:2]"
   ]
  },
  {
   "cell_type": "code",
   "execution_count": 17,
   "metadata": {},
   "outputs": [
    {
     "data": {
      "text/plain": [
       "'abcde'"
      ]
     },
     "execution_count": 17,
     "metadata": {},
     "output_type": "execute_result"
    }
   ],
   "source": [
    "test"
   ]
  },
  {
   "cell_type": "code",
   "execution_count": 18,
   "metadata": {},
   "outputs": [
    {
     "data": {
      "text/plain": [
       "'a'"
      ]
     },
     "execution_count": 18,
     "metadata": {},
     "output_type": "execute_result"
    }
   ],
   "source": [
    "pointer = 0\n",
    "test[pointer]"
   ]
  },
  {
   "cell_type": "code",
   "execution_count": 19,
   "metadata": {},
   "outputs": [
    {
     "data": {
      "text/plain": [
       "'e'"
      ]
     },
     "execution_count": 19,
     "metadata": {},
     "output_type": "execute_result"
    }
   ],
   "source": [
    "test[pointer+4]"
   ]
  },
  {
   "cell_type": "code",
   "execution_count": 22,
   "metadata": {},
   "outputs": [
    {
     "data": {
      "text/plain": [
       "1"
      ]
     },
     "execution_count": 22,
     "metadata": {},
     "output_type": "execute_result"
    }
   ],
   "source": [
    "sequence[pointer+2]"
   ]
  },
  {
   "cell_type": "code",
   "execution_count": 24,
   "metadata": {},
   "outputs": [
    {
     "data": {
      "text/plain": [
       "array([  3, 225,   1, 225,   6])"
      ]
     },
     "execution_count": 24,
     "metadata": {},
     "output_type": "execute_result"
    }
   ],
   "source": [
    "sequence[0:5]"
   ]
  },
  {
   "cell_type": "code",
   "execution_count": 16,
   "metadata": {},
   "outputs": [],
   "source": [
    "class intcode(object):\n",
    "    def __init__(self, sequence):\n",
    "        self.startingSequence = sequence.copy()\n",
    "        self.sequence = sequence.copy()\n",
    "        self.pointer = 0\n",
    "        self.parametersRaw = []\n",
    "        self.parametersMode = []\n",
    "        self.parametersPosition = []\n",
    "        self.parametersValues = []\n",
    "        \n",
    "        \n",
    "    def create_dict(self):\n",
    "        self.dict = defaultdict(int)\n",
    "        for i, v in enumerate(self.sequence):\n",
    "            self.dict[i] = v\n",
    "            \n",
    "    def step(self):\n",
    "        #Get instruction:\n",
    "        self.currInstruction = self.dict[self.pointer]\n",
    "        self.revInstr = self.currInstruction[::-1]\n",
    "        self.currOperation = int(self.revInstr[0:2])\n",
    "        self.currParameters = self.length_instruction()\n",
    "        for i in range(0, self.currParameters):\n",
    "            ############################\n",
    "            raw = self.parametersRaw.append(self.dict[i+1])\n",
    "            mode = self.parametersRaw.append(self.dict[i+1])\n",
    "            self.parametersValues.append(self.get_position(self.parametersMode.append(int(self.revInstr[2+i])),self.parametersRaw.append(self.dict[i+1]) ))\n",
    "            \n",
    "            \n",
    "            \n",
    "    \n",
    "    def get_position(self, mode, raw):\n",
    "        #Mode 0 -> position = get the value stored at that position\n",
    "        #Mode 1 -> immediate = get the raw value\n",
    "        if mode = 0:\n",
    "            return self.dict[raw]\n",
    "        elif mode = 1:\n",
    "            return raw\n",
    "        else:\n",
    "            return 99\n",
    "                                       \n",
    "    \n",
    "    def length_instruction(self):\n",
    "        if self.currOperation = 1:\n",
    "            return 4\n",
    "        elif self.currOperation = 2:\n",
    "            return 4\n",
    "        elif self.currOperation = 3:\n",
    "            return 2\n",
    "        elif self.currOperation = 1:\n",
    "            return 2\n",
    "    \n",
    "    def get_parameters(self):\n",
    "        \n",
    "        \n",
    "    def operation(self, operator):\n",
    "        if operator == 99:\n",
    "            return\n",
    "        if operator =="
   ]
  },
  {
   "cell_type": "code",
   "execution_count": 4,
   "metadata": {},
   "outputs": [],
   "source": [
    "def initializeArr(sequence, noun=12, verb=2):\n",
    "    sequence[1] = noun\n",
    "    sequence[2] = verb\n",
    "    return sequence"
   ]
  },
  {
   "cell_type": "code",
   "execution_count": 5,
   "metadata": {},
   "outputs": [],
   "source": [
    "def processGroup(smallArr, sequence):\n",
    "    '''Process a single instruction'''\n",
    "    operation = smallArr[0]\n",
    "    if operation == 99:\n",
    "        return sequence[0]\n",
    "        sequence = []\n",
    "    elif operation == 1:\n",
    "        # sum\n",
    "        sequence[smallArr[3]] = sequence[smallArr[1]] + sequence[smallArr[2]]\n",
    "    elif operation == 2:\n",
    "        # product\n",
    "        sequence[smallArr[3]] = sequence[smallArr[1]] * sequence[smallArr[2]]\n",
    "    else:\n",
    "        #Error\n",
    "        pass"
   ]
  },
  {
   "cell_type": "code",
   "execution_count": 6,
   "metadata": {},
   "outputs": [],
   "source": [
    "def process_full(sequence):\n",
    "    '''Send all instructions of a sequence for interpretation'''\n",
    "    for i in range(0, len(sequence)//4 +1):\n",
    "        solution = None\n",
    "        try:\n",
    "            solution = processGroup(sequence[i*4:i*4+4], sequence)\n",
    "            if solution:\n",
    "                return solution\n",
    "                break\n",
    "        except:\n",
    "            pass\n",
    "    "
   ]
  },
  {
   "cell_type": "markdown",
   "metadata": {},
   "source": [
    "## Part 1"
   ]
  },
  {
   "cell_type": "code",
   "execution_count": 7,
   "metadata": {},
   "outputs": [
    {
     "name": "stdout",
     "output_type": "stream",
     "text": [
      "3706713\n"
     ]
    }
   ],
   "source": [
    "sequence = initializeArr(sequence)\n",
    "solution = process_full(sequence)\n",
    "print(solution)"
   ]
  },
  {
   "cell_type": "markdown",
   "metadata": {},
   "source": [
    "## Part 2"
   ]
  },
  {
   "cell_type": "code",
   "execution_count": 8,
   "metadata": {},
   "outputs": [],
   "source": [
    "target = 19690720\n",
    "sequence = seq_copy.copy()"
   ]
  },
  {
   "cell_type": "code",
   "execution_count": 9,
   "metadata": {},
   "outputs": [],
   "source": [
    "def match_target(n_max, v_max, sequence):\n",
    "    seq_copy = sequence.copy()\n",
    "    for n in range(0,n_max):\n",
    "        for v in range(0,v_max):\n",
    "            sequence = seq_copy.copy()\n",
    "            sequence = initializeArr(sequence, noun=n,verb=v)\n",
    "            solution = process_full(sequence)\n",
    "            if solution == target:\n",
    "                return solution, n, v"
   ]
  },
  {
   "cell_type": "code",
   "execution_count": 10,
   "metadata": {},
   "outputs": [],
   "source": [
    "\n",
    "solved = match_target(100,100,seq_copy.copy())"
   ]
  },
  {
   "cell_type": "code",
   "execution_count": 11,
   "metadata": {},
   "outputs": [
    {
     "name": "stdout",
     "output_type": "stream",
     "text": [
      "498 ms ± 39.7 ms per loop (mean ± std. dev. of 7 runs, 1 loop each)\n"
     ]
    }
   ],
   "source": [
    "%timeit solved = match_target(100,100,seq_copy.copy())\n"
   ]
  },
  {
   "cell_type": "code",
   "execution_count": 12,
   "metadata": {},
   "outputs": [
    {
     "data": {
      "text/plain": [
       "(19690720, 86, 9)"
      ]
     },
     "execution_count": 12,
     "metadata": {},
     "output_type": "execute_result"
    }
   ],
   "source": [
    "solved"
   ]
  }
 ],
 "metadata": {
  "kernelspec": {
   "display_name": "Python 3",
   "language": "python",
   "name": "python3"
  },
  "language_info": {
   "codemirror_mode": {
    "name": "ipython",
    "version": 3
   },
   "file_extension": ".py",
   "mimetype": "text/x-python",
   "name": "python",
   "nbconvert_exporter": "python",
   "pygments_lexer": "ipython3",
   "version": "3.7.4"
  }
 },
 "nbformat": 4,
 "nbformat_minor": 2
}
