{
 "cells": [
  {
   "cell_type": "markdown",
   "metadata": {},
   "source": [
    "# Day 2\n",
    "\n",
    "*Original URL* https://adventofcode.com/2019/day/2 and [**My Alteryx Approach**](https://github.com/dsmdavid/AdventCode2019/tree/master/Code/Alteryx/Day2)\n",
    "\n",
    "## (Not so) Brief\n",
    "\n",
    "An Intcode program is a list of integers separated by commas (like 1,0,0,3,99). To run one, start by looking at the first integer (called position 0). Here, you will find an opcode - either 1, 2, or 99. The opcode indicates what to do; for example, 99 means that the program is finished and should immediately halt. Encountering an unknown opcode means something went wrong.  \n",
    "\n",
    "Opcode 1 adds together numbers read from two positions and stores the result in a third position. The three integers immediately after the opcode tell you these three positions - the first two indicate the positions from which you should read the input values, and the third indicates the position at which the output should be stored.  \n",
    "\n",
    "For example, if your Intcode computer encounters 1,10,20,30, it should read the values at positions 10 and 20, add those values, and then overwrite the value at position 30 with their sum.  \n",
    "\n",
    "Opcode 2 works exactly like opcode 1, except it multiplies the two inputs instead of adding them. Again, the three integers after the opcode indicate where the inputs and outputs are, not their values.  \n",
    "\n",
    "Once you're done processing an opcode, move to the next one by stepping forward 4 positions.  \n",
    "\n",
    "For example, suppose you have the following program:  \n",
    "\n",
    "1,9,10,3,2,3,11,0,99,30,40,50  \n",
    "For the purposes of illustration, here is the same program split into multiple lines:\n",
    "\n",
    "1,9,10,3,  \n",
    "2,3,11,0,  \n",
    "99,  \n",
    "30,40,50  \n",
    "The first four integers, 1,9,10,3, are at positions 0, 1, 2, and 3. Together, they represent the first opcode (1, addition), the positions of the two inputs (9 and 10), and the position of the output (3). To handle this opcode, you first need to get the values at the input positions: position 9 contains 30, and position 10 contains 40. Add these numbers together to get 70. Then, store this value at the output position; here, the output position (3) is at position 3, so it overwrites itself. Afterward, the program looks like this:\n",
    "\n",
    "1,9,10,70,  \n",
    "2,3,11,0,  \n",
    "99,  \n",
    "30,40,50  \n",
    "Step forward 4 positions to reach the next opcode, 2. This opcode works just like the previous, but it multiplies instead of adding. The inputs are at positions 3 and 11; these positions contain 70 and 50 respectively. Multiplying these produces 3500; this is stored at position 0:\n",
    "\n",
    "3500,9,10,70,  \n",
    "2,3,11,0,  \n",
    "99,  \n",
    "30,40,50  \n",
    "Stepping forward 4 more positions arrives at opcode 99, halting the program.\n",
    "\n",
    "\n",
    "Once you have a working computer, the first step is to restore the gravity assist program (your puzzle input) to the \"1202 program alarm\" state it had just before the last computer caught fire. To do this, before running the program, replace position 1 with the value 12 and replace position 2 with the value 2. What value is left at position 0 after the program halts?\n"
   ]
  },
  {
   "cell_type": "markdown",
   "metadata": {},
   "source": [
    "### Part 2\n",
    "\n",
    "The inputs should still be provided to the program by replacing the values at addresses 1 and 2, just like before. In this program, the value placed in address 1 is called the noun, and the value placed in address 2 is called the verb. Each of the two input values will be between 0 and 99, inclusive.\n",
    "\n",
    "Once the program has halted, its output is available at address 0, also just like before. Each time you try a pair of inputs, make sure you first reset the computer's memory to the values in the program (your puzzle input) - in other words, don't reuse memory from a previous attempt.\n",
    "\n",
    "Find the input noun and verb that cause the program to produce the output **19690720**. What is 100 * noun + verb? (For example, if noun=12 and verb=2, the answer would be 1202.)"
   ]
  },
  {
   "cell_type": "code",
   "execution_count": 1,
   "metadata": {},
   "outputs": [],
   "source": [
    "import numpy as np"
   ]
  },
  {
   "cell_type": "markdown",
   "metadata": {},
   "source": [
    "#### Read files"
   ]
  },
  {
   "cell_type": "code",
   "execution_count": 2,
   "metadata": {},
   "outputs": [],
   "source": [
    "# Test Sequence\n",
    "# sequence = [int(x) for x in \"1,9,10,3,2,3,11,0,99,30,40,50\".split(\",\")]\n"
   ]
  },
  {
   "cell_type": "code",
   "execution_count": 3,
   "metadata": {},
   "outputs": [
    {
     "data": {
      "text/plain": [
       "array([  1,   0,   0,   3,   1,   1,   2,   3,   1,   3,   4,   3,   1,\n",
       "         5,   0,   3,   2,   1,  10,  19,   1,   6,  19,  23,   1,  13,\n",
       "        23,  27,   1,   6,  27,  31,   1,  31,  10,  35,   1,  35,   6,\n",
       "        39,   1,  39,  13,  43,   2,  10,  43,  47,   1,  47,   6,  51,\n",
       "         2,   6,  51,  55,   1,   5,  55,  59,   2,  13,  59,  63,   2,\n",
       "        63,   9,  67,   1,   5,  67,  71,   2,  13,  71,  75,   1,  75,\n",
       "         5,  79,   1,  10,  79,  83,   2,   6,  83,  87,   2,  13,  87,\n",
       "        91,   1,   9,  91,  95,   1,   9,  95,  99,   2,  99,   9, 103,\n",
       "         1,   5, 103, 107,   2,   9, 107, 111,   1,   5, 111, 115,   1,\n",
       "       115,   2, 119,   1,   9, 119,   0,  99,   2,   0,  14,   0])"
      ]
     },
     "execution_count": 3,
     "metadata": {},
     "output_type": "execute_result"
    }
   ],
   "source": [
    "sequence = np.loadtxt(\"../../../Inputs/Day2/Puzzle2-input01.txt\",delimiter=\",\", dtype=np.int )\n",
    "#Copy to restore\n",
    "seq_copy = sequence.copy()\n",
    "sequence\n",
    "\n"
   ]
  },
  {
   "cell_type": "markdown",
   "metadata": {},
   "source": [
    "#### Main functions"
   ]
  },
  {
   "cell_type": "code",
   "execution_count": 4,
   "metadata": {},
   "outputs": [],
   "source": [
    "def initializeArr(sequence, noun=12, verb=2):\n",
    "    sequence[1] = noun\n",
    "    sequence[2] = verb\n",
    "    return sequence"
   ]
  },
  {
   "cell_type": "code",
   "execution_count": 5,
   "metadata": {},
   "outputs": [],
   "source": [
    "def processGroup(smallArr, sequence):\n",
    "    '''Process a single instruction'''\n",
    "    operation = smallArr[0]\n",
    "    if operation == 99:\n",
    "        return sequence[0]\n",
    "        sequence = []\n",
    "    elif operation == 1:\n",
    "        # sum\n",
    "        sequence[smallArr[3]] = sequence[smallArr[1]] + sequence[smallArr[2]]\n",
    "    elif operation == 2:\n",
    "        # product\n",
    "        sequence[smallArr[3]] = sequence[smallArr[1]] * sequence[smallArr[2]]\n",
    "    else:\n",
    "        #Error\n",
    "        pass"
   ]
  },
  {
   "cell_type": "code",
   "execution_count": 6,
   "metadata": {},
   "outputs": [],
   "source": [
    "def process_full(sequence):\n",
    "    '''Send all instructions of a sequence for interpretation'''\n",
    "    for i in range(0, len(sequence)//4 +1):\n",
    "        solution = None\n",
    "        try:\n",
    "            solution = processGroup(sequence[i*4:i*4+4], sequence)\n",
    "            if solution:\n",
    "                return solution\n",
    "                break\n",
    "        except:\n",
    "            pass\n",
    "    "
   ]
  },
  {
   "cell_type": "markdown",
   "metadata": {},
   "source": [
    "## Part 1"
   ]
  },
  {
   "cell_type": "code",
   "execution_count": 7,
   "metadata": {},
   "outputs": [
    {
     "name": "stdout",
     "output_type": "stream",
     "text": [
      "3706713\n"
     ]
    }
   ],
   "source": [
    "sequence = initializeArr(sequence)\n",
    "solution = process_full(sequence)\n",
    "print(solution)"
   ]
  },
  {
   "cell_type": "markdown",
   "metadata": {},
   "source": [
    "## Part 2"
   ]
  },
  {
   "cell_type": "code",
   "execution_count": 8,
   "metadata": {},
   "outputs": [],
   "source": [
    "target = 19690720\n",
    "sequence = seq_copy.copy()"
   ]
  },
  {
   "cell_type": "code",
   "execution_count": 9,
   "metadata": {},
   "outputs": [],
   "source": [
    "def match_target(n_max, v_max, sequence):\n",
    "    seq_copy = sequence.copy()\n",
    "    for n in range(0,n_max):\n",
    "        for v in range(0,v_max):\n",
    "            sequence = seq_copy.copy()\n",
    "            sequence = initializeArr(sequence, noun=n,verb=v)\n",
    "            solution = process_full(sequence)\n",
    "            if solution == target:\n",
    "                return solution, n, v"
   ]
  },
  {
   "cell_type": "code",
   "execution_count": 10,
   "metadata": {},
   "outputs": [],
   "source": [
    "\n",
    "solved = match_target(100,100,seq_copy.copy())"
   ]
  },
  {
   "cell_type": "code",
   "execution_count": 11,
   "metadata": {},
   "outputs": [
    {
     "name": "stdout",
     "output_type": "stream",
     "text": [
      "498 ms ± 39.7 ms per loop (mean ± std. dev. of 7 runs, 1 loop each)\n"
     ]
    }
   ],
   "source": [
    "%timeit solved = match_target(100,100,seq_copy.copy())\n"
   ]
  },
  {
   "cell_type": "code",
   "execution_count": 12,
   "metadata": {},
   "outputs": [
    {
     "data": {
      "text/plain": [
       "(19690720, 86, 9)"
      ]
     },
     "execution_count": 12,
     "metadata": {},
     "output_type": "execute_result"
    }
   ],
   "source": [
    "solved"
   ]
  }
 ],
 "metadata": {
  "kernelspec": {
   "display_name": "Python 3",
   "language": "python",
   "name": "python3"
  },
  "language_info": {
   "codemirror_mode": {
    "name": "ipython",
    "version": 3
   },
   "file_extension": ".py",
   "mimetype": "text/x-python",
   "name": "python",
   "nbconvert_exporter": "python",
   "pygments_lexer": "ipython3",
   "version": "3.7.4"
  }
 },
 "nbformat": 4,
 "nbformat_minor": 2
}
