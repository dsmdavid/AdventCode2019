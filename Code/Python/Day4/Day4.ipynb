{
 "cells": [
  {
   "cell_type": "markdown",
   "metadata": {},
   "source": [
    "# Day 4\n",
    "\n",
    "*Original URL* https://adventofcode.com/2019/day/4 and [**My Alteryx Approach**](https://github.com/dsmdavid/AdventCode2019/tree/master/Code/Alteryx/Day4)\n",
    "\n",
    "## Brief\n",
    "\n",
    "You arrive at the Venus fuel depot only to discover it's protected by a password. The Elves had written the password on a sticky note, but someone threw it out.\n",
    "\n",
    "However, they do remember a few key facts about the password  \n",
    "\n",
    "It is a six-digit number.  \n",
    "The value is within the range given in your puzzle input.  \n",
    "Two adjacent digits are the same (like 22 in 122345).  \n",
    "Going from left to right, the digits never decrease; they only ever increase or stay the same (like 111123 or 135679).  \n",
    "Other than the range rule, the following are true:  \n",
    "\n",
    "111111 meets these criteria (double 11, never decreases).  \n",
    "223450 does not meet these criteria (decreasing pair of digits 50).  \n",
    "123789 does not meet these criteria (no double).  \n",
    "How many different passwords within the range given in your puzzle input meet these criteria?\n",
    "\n",
    "## --- Part Two ---\n",
    "An Elf just remembered one more important detail: the two adjacent matching digits are not part of a larger group of matching digits.\n",
    "\n",
    "Given this additional criterion, but still ignoring the range rule, the following are now true:\n",
    "\n",
    "112233 meets these criteria because the digits never decrease and all repeated digits are exactly two digits long.  \n",
    "123444 no longer meets the criteria (the repeated 44 is part of a larger group of 444).  \n",
    "111122 meets the criteria (even though 1 is repeated more than twice, it still contains a double 22).  \n",
    "How many different passwords within the range given in your puzzle input meet all of the criteria?"
   ]
  },
  {
   "cell_type": "code",
   "execution_count": 1,
   "metadata": {},
   "outputs": [],
   "source": [
    "import numpy as np\n",
    "from collections import Counter"
   ]
  },
  {
   "cell_type": "code",
   "execution_count": 2,
   "metadata": {},
   "outputs": [],
   "source": [
    "#conditions\n",
    "MIN_VALUE = 248345\n",
    "END_VALUE = 746315\n",
    "\n",
    "vals = np.arange(MIN_VALUE, END_VALUE, 1)"
   ]
  },
  {
   "cell_type": "code",
   "execution_count": 3,
   "metadata": {},
   "outputs": [
    {
     "name": "stdout",
     "output_type": "stream",
     "text": [
      "1019 660\n"
     ]
    }
   ],
   "source": [
    "def test(number):\n",
    "    digits = []\n",
    "    n = 5\n",
    "    while n>0:\n",
    "        dig = np.floor(number/np.power(10,n))\n",
    "        dig1 = np.floor((number%np.power(10,n))/np.power(10,n-1))\n",
    "        #print(number, n)\n",
    "        if dig <= dig1:\n",
    "            digits.append(dig)\n",
    "            if n == 1:\n",
    "                digits.append(dig1)\n",
    "            number = number%np.power(10,n)\n",
    "            n -= 1\n",
    "        else:\n",
    "            return False\n",
    "    test = Counter(digits)\n",
    "    if max(test.values()) >= 2:\n",
    "        return True\n",
    "    return False\n",
    "\n",
    "def test2(number):\n",
    "    digits = []\n",
    "    n = 5\n",
    "    while n>0:\n",
    "        dig = np.floor(number/np.power(10,n))\n",
    "        dig1 = np.floor((number%np.power(10,n))/np.power(10,n-1))\n",
    "        #print(number, n)\n",
    "        if dig <= dig1:\n",
    "            digits.append(dig)\n",
    "            if n == 1:\n",
    "                digits.append(dig1)\n",
    "            number = number%np.power(10,n)\n",
    "            n -= 1\n",
    "        else:\n",
    "            return False\n",
    "    test = Counter(digits)\n",
    "    for i in test.values():\n",
    "        if i == 2:\n",
    "            return True\n",
    "    return False\n",
    "\n",
    "\n",
    "check1 = np.vectorize(test)\n",
    "check2 = np.vectorize(test2)\n",
    "\n",
    "valid_vals = check1(vals)\n",
    "valid_vals2 = check2(vals)\n",
    "\n",
    "phase1 = sum(valid_vals)\n",
    "phase2 = sum(valid_vals2)\n",
    "\n",
    "print(phase1, phase2)"
   ]
  },
  {
   "cell_type": "code",
   "execution_count": null,
   "metadata": {},
   "outputs": [],
   "source": []
  }
 ],
 "metadata": {
  "kernelspec": {
   "display_name": "Python 3",
   "language": "python",
   "name": "python3"
  },
  "language_info": {
   "codemirror_mode": {
    "name": "ipython",
    "version": 3
   },
   "file_extension": ".py",
   "mimetype": "text/x-python",
   "name": "python",
   "nbconvert_exporter": "python",
   "pygments_lexer": "ipython3",
   "version": "3.7.4"
  }
 },
 "nbformat": 4,
 "nbformat_minor": 2
}
